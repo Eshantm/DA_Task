{
  "nbformat": 4,
  "nbformat_minor": 0,
  "metadata": {
    "colab": {
      "name": "DA_task.ipynb",
      "provenance": [],
      "collapsed_sections": []
    },
    "kernelspec": {
      "name": "python3",
      "display_name": "Python 3"
    },
    "language_info": {
      "name": "python"
    }
  },
  "cells": [
    {
      "cell_type": "markdown",
      "metadata": {
        "id": "4Jgfa5tTpCNj"
      },
      "source": [
        "#Data Loading"
      ]
    },
    {
      "cell_type": "code",
      "metadata": {
        "id": "c7tj0xZ5pHGq"
      },
      "source": [
        "import pandas as pd\n",
        "import numpy as np\n",
        "import matplotlib.pyplot as plt\n",
        "import seaborn as sns\n",
        "from sklearn import metrics"
      ],
      "execution_count": 30,
      "outputs": []
    },
    {
      "cell_type": "code",
      "metadata": {
        "colab": {
          "base_uri": "https://localhost:8080/",
          "height": 203
        },
        "id": "CWjFxOEypZqo",
        "outputId": "d45cb53e-fed7-4efa-96a5-77027419f5d7"
      },
      "source": [
        "data = pd.read_csv(\"/Data Analyst Assessment - dataset 1.csv\")\n",
        "data.head()"
      ],
      "execution_count": null,
      "outputs": [
        {
          "output_type": "execute_result",
          "data": {
            "text/html": [
              "<div>\n",
              "<style scoped>\n",
              "    .dataframe tbody tr th:only-of-type {\n",
              "        vertical-align: middle;\n",
              "    }\n",
              "\n",
              "    .dataframe tbody tr th {\n",
              "        vertical-align: top;\n",
              "    }\n",
              "\n",
              "    .dataframe thead th {\n",
              "        text-align: right;\n",
              "    }\n",
              "</style>\n",
              "<table border=\"1\" class=\"dataframe\">\n",
              "  <thead>\n",
              "    <tr style=\"text-align: right;\">\n",
              "      <th></th>\n",
              "      <th>Month</th>\n",
              "      <th>Financial Year</th>\n",
              "      <th>Chain</th>\n",
              "      <th>Suburb</th>\n",
              "      <th>State</th>\n",
              "      <th>Postcode</th>\n",
              "      <th>Country</th>\n",
              "      <th>Manager</th>\n",
              "      <th>Category</th>\n",
              "      <th>Buyer</th>\n",
              "      <th>Sales</th>\n",
              "    </tr>\n",
              "  </thead>\n",
              "  <tbody>\n",
              "    <tr>\n",
              "      <th>0</th>\n",
              "      <td>1/1/2016</td>\n",
              "      <td>2015/16</td>\n",
              "      <td>Fashions Direct</td>\n",
              "      <td>Chatswood</td>\n",
              "      <td>NSW</td>\n",
              "      <td>2067</td>\n",
              "      <td>Australia</td>\n",
              "      <td>Jeremy Garcia</td>\n",
              "      <td>Home</td>\n",
              "      <td>Richard Carr</td>\n",
              "      <td>479.02</td>\n",
              "    </tr>\n",
              "    <tr>\n",
              "      <th>1</th>\n",
              "      <td>1/1/2016</td>\n",
              "      <td>2015/16</td>\n",
              "      <td>Fashions Direct</td>\n",
              "      <td>Chatswood</td>\n",
              "      <td>NSW</td>\n",
              "      <td>2067</td>\n",
              "      <td>Australia</td>\n",
              "      <td>Jeremy Garcia</td>\n",
              "      <td>Juniors</td>\n",
              "      <td>Chester George</td>\n",
              "      <td>149.95</td>\n",
              "    </tr>\n",
              "    <tr>\n",
              "      <th>2</th>\n",
              "      <td>1/1/2016</td>\n",
              "      <td>2015/16</td>\n",
              "      <td>Fashions Direct</td>\n",
              "      <td>Chatswood</td>\n",
              "      <td>NSW</td>\n",
              "      <td>2067</td>\n",
              "      <td>Australia</td>\n",
              "      <td>Jeremy Garcia</td>\n",
              "      <td>Mens</td>\n",
              "      <td>Bruce Curran</td>\n",
              "      <td>14.00</td>\n",
              "    </tr>\n",
              "    <tr>\n",
              "      <th>3</th>\n",
              "      <td>1/1/2016</td>\n",
              "      <td>2015/16</td>\n",
              "      <td>Fashions Direct</td>\n",
              "      <td>Chatswood</td>\n",
              "      <td>NSW</td>\n",
              "      <td>2067</td>\n",
              "      <td>Australia</td>\n",
              "      <td>Jeremy Garcia</td>\n",
              "      <td>Juniors</td>\n",
              "      <td>Chester George</td>\n",
              "      <td>12.00</td>\n",
              "    </tr>\n",
              "    <tr>\n",
              "      <th>4</th>\n",
              "      <td>1/1/2016</td>\n",
              "      <td>2015/16</td>\n",
              "      <td>Fashions Direct</td>\n",
              "      <td>Chatswood</td>\n",
              "      <td>NSW</td>\n",
              "      <td>2067</td>\n",
              "      <td>Australia</td>\n",
              "      <td>Jeremy Garcia</td>\n",
              "      <td>Womens</td>\n",
              "      <td>Amy Buchanan</td>\n",
              "      <td>46.94</td>\n",
              "    </tr>\n",
              "  </tbody>\n",
              "</table>\n",
              "</div>"
            ],
            "text/plain": [
              "      Month Financial Year            Chain  ... Category           Buyer   Sales\n",
              "0  1/1/2016        2015/16  Fashions Direct  ...     Home    Richard Carr  479.02\n",
              "1  1/1/2016        2015/16  Fashions Direct  ...  Juniors  Chester George  149.95\n",
              "2  1/1/2016        2015/16  Fashions Direct  ...     Mens    Bruce Curran   14.00\n",
              "3  1/1/2016        2015/16  Fashions Direct  ...  Juniors  Chester George   12.00\n",
              "4  1/1/2016        2015/16  Fashions Direct  ...   Womens    Amy Buchanan   46.94\n",
              "\n",
              "[5 rows x 11 columns]"
            ]
          },
          "metadata": {
            "tags": []
          },
          "execution_count": 3
        }
      ]
    },
    {
      "cell_type": "code",
      "metadata": {
        "colab": {
          "base_uri": "https://localhost:8080/"
        },
        "id": "DJg3bEuaqQYN",
        "outputId": "33cf29e3-ac17-419e-be3f-0dd68fe43cff"
      },
      "source": [
        "data.shape"
      ],
      "execution_count": null,
      "outputs": [
        {
          "output_type": "execute_result",
          "data": {
            "text/plain": [
              "(72425, 11)"
            ]
          },
          "metadata": {
            "tags": []
          },
          "execution_count": 4
        }
      ]
    },
    {
      "cell_type": "code",
      "metadata": {
        "colab": {
          "base_uri": "https://localhost:8080/"
        },
        "id": "LpBxGsLztcXA",
        "outputId": "6b1cb506-7608-42fb-eead-f2f962ea47e9"
      },
      "source": [
        "data[\"Country\"].value_counts()\n",
        "#thus we can drop this column"
      ],
      "execution_count": null,
      "outputs": [
        {
          "output_type": "execute_result",
          "data": {
            "text/plain": [
              "Australia    72425\n",
              "Name: Country, dtype: int64"
            ]
          },
          "metadata": {
            "tags": []
          },
          "execution_count": 5
        }
      ]
    },
    {
      "cell_type": "code",
      "metadata": {
        "colab": {
          "base_uri": "https://localhost:8080/"
        },
        "id": "tgwED13bt4ZM",
        "outputId": "ac976508-5c27-4f50-82f2-df64c129acbc"
      },
      "source": [
        "data[\"Suburb\"].value_counts()"
      ],
      "execution_count": null,
      "outputs": [
        {
          "output_type": "execute_result",
          "data": {
            "text/plain": [
              "Campbelltown     1196\n",
              "Chadstone        1183\n",
              "Albany           1154\n",
              "Underwood        1125\n",
              "Indooroopilly    1111\n",
              "                 ... \n",
              "Esperance         513\n",
              "Yeppoon           493\n",
              "Atherton          384\n",
              "Hastings          363\n",
              "Horsham           129\n",
              "Name: Suburb, Length: 97, dtype: int64"
            ]
          },
          "metadata": {
            "tags": []
          },
          "execution_count": 6
        }
      ]
    },
    {
      "cell_type": "code",
      "metadata": {
        "colab": {
          "base_uri": "https://localhost:8080/"
        },
        "id": "GEphJjqXqUs3",
        "outputId": "ee9a83df-e70b-4842-baff-9b31fc033aea"
      },
      "source": [
        "data.isnull().sum()"
      ],
      "execution_count": null,
      "outputs": [
        {
          "output_type": "execute_result",
          "data": {
            "text/plain": [
              "Month             0\n",
              "Financial Year    0\n",
              "Chain             0\n",
              "Suburb            0\n",
              "State             0\n",
              "Postcode          0\n",
              "Country           0\n",
              "Manager           0\n",
              "Category          0\n",
              "Buyer             0\n",
              "Sales             0\n",
              "dtype: int64"
            ]
          },
          "metadata": {
            "tags": []
          },
          "execution_count": 7
        }
      ]
    },
    {
      "cell_type": "code",
      "metadata": {
        "colab": {
          "base_uri": "https://localhost:8080/",
          "height": 110
        },
        "id": "HLHtmj4R__FI",
        "outputId": "89c2dbe9-9a2f-4b2b-89f3-266efb9cd983"
      },
      "source": [
        "data.corr()\n",
        "#thus we can neglect this variable."
      ],
      "execution_count": null,
      "outputs": [
        {
          "output_type": "execute_result",
          "data": {
            "text/html": [
              "<div>\n",
              "<style scoped>\n",
              "    .dataframe tbody tr th:only-of-type {\n",
              "        vertical-align: middle;\n",
              "    }\n",
              "\n",
              "    .dataframe tbody tr th {\n",
              "        vertical-align: top;\n",
              "    }\n",
              "\n",
              "    .dataframe thead th {\n",
              "        text-align: right;\n",
              "    }\n",
              "</style>\n",
              "<table border=\"1\" class=\"dataframe\">\n",
              "  <thead>\n",
              "    <tr style=\"text-align: right;\">\n",
              "      <th></th>\n",
              "      <th>Postcode</th>\n",
              "      <th>Sales</th>\n",
              "    </tr>\n",
              "  </thead>\n",
              "  <tbody>\n",
              "    <tr>\n",
              "      <th>Postcode</th>\n",
              "      <td>1.000000</td>\n",
              "      <td>-0.092038</td>\n",
              "    </tr>\n",
              "    <tr>\n",
              "      <th>Sales</th>\n",
              "      <td>-0.092038</td>\n",
              "      <td>1.000000</td>\n",
              "    </tr>\n",
              "  </tbody>\n",
              "</table>\n",
              "</div>"
            ],
            "text/plain": [
              "          Postcode     Sales\n",
              "Postcode  1.000000 -0.092038\n",
              "Sales    -0.092038  1.000000"
            ]
          },
          "metadata": {
            "tags": []
          },
          "execution_count": 8
        }
      ]
    },
    {
      "cell_type": "markdown",
      "metadata": {
        "id": "9M0iYGjEqmxr"
      },
      "source": [
        "#Linear Regression Model"
      ]
    },
    {
      "cell_type": "code",
      "metadata": {
        "colab": {
          "base_uri": "https://localhost:8080/",
          "height": 240
        },
        "id": "skJaRBcBqyAk",
        "outputId": "05f37ee4-2046-49c3-c3b5-5f42cff2e45e"
      },
      "source": [
        "x = data[[\"Financial Year\",\"Chain\",\"State\",\"Manager\",\"Category\",\"Buyer\"]]\n",
        "x = pd.get_dummies(data=x, drop_first=True)\n",
        "x.head()\n",
        "\n"
      ],
      "execution_count": null,
      "outputs": [
        {
          "output_type": "execute_result",
          "data": {
            "text/html": [
              "<div>\n",
              "<style scoped>\n",
              "    .dataframe tbody tr th:only-of-type {\n",
              "        vertical-align: middle;\n",
              "    }\n",
              "\n",
              "    .dataframe tbody tr th {\n",
              "        vertical-align: top;\n",
              "    }\n",
              "\n",
              "    .dataframe thead th {\n",
              "        text-align: right;\n",
              "    }\n",
              "</style>\n",
              "<table border=\"1\" class=\"dataframe\">\n",
              "  <thead>\n",
              "    <tr style=\"text-align: right;\">\n",
              "      <th></th>\n",
              "      <th>Financial Year_2016/17</th>\n",
              "      <th>Financial Year_2017/18</th>\n",
              "      <th>Chain_Next Look</th>\n",
              "      <th>State_NSW</th>\n",
              "      <th>State_NT</th>\n",
              "      <th>State_QLD</th>\n",
              "      <th>State_SA</th>\n",
              "      <th>State_TAS</th>\n",
              "      <th>State_VIC</th>\n",
              "      <th>State_WA</th>\n",
              "      <th>Manager_Amber Ward</th>\n",
              "      <th>Manager_Brian Hubbard</th>\n",
              "      <th>Manager_Caroline Tucker</th>\n",
              "      <th>Manager_Claire Bridges</th>\n",
              "      <th>Manager_George Chester</th>\n",
              "      <th>Manager_Jeremy Garcia</th>\n",
              "      <th>Manager_Jerry Fulton</th>\n",
              "      <th>Manager_John Gardner</th>\n",
              "      <th>Manager_John Harper</th>\n",
              "      <th>Manager_Lillian Pruitt</th>\n",
              "      <th>Manager_Michael Carney</th>\n",
              "      <th>Manager_Miles Hammond</th>\n",
              "      <th>Manager_Owen Pierce</th>\n",
              "      <th>Manager_Rachael Long</th>\n",
              "      <th>Manager_Ray Watson</th>\n",
              "      <th>Manager_Ricky Wilkinson</th>\n",
              "      <th>Manager_Shellie Thomas</th>\n",
              "      <th>Manager_Simone Prior</th>\n",
              "      <th>Manager_Terri Wright</th>\n",
              "      <th>Manager_Tom McKenzie</th>\n",
              "      <th>Category_Groceries</th>\n",
              "      <th>Category_Home</th>\n",
              "      <th>Category_Hosiery</th>\n",
              "      <th>Category_Intimate</th>\n",
              "      <th>Category_Juniors</th>\n",
              "      <th>Category_Kids</th>\n",
              "      <th>Category_Mens</th>\n",
              "      <th>Category_Shoes</th>\n",
              "      <th>Category_Womens</th>\n",
              "      <th>Buyer_Bruce Curran</th>\n",
              "      <th>Buyer_Chester George</th>\n",
              "      <th>Buyer_Chris Monroe</th>\n",
              "      <th>Buyer_Elizabeth Gentry</th>\n",
              "      <th>Buyer_Ella Hickman</th>\n",
              "      <th>Buyer_Howard Wright</th>\n",
              "      <th>Buyer_Maggie Mayer</th>\n",
              "      <th>Buyer_Richard Carr</th>\n",
              "      <th>Buyer_Sara Ferrell</th>\n",
              "    </tr>\n",
              "  </thead>\n",
              "  <tbody>\n",
              "    <tr>\n",
              "      <th>0</th>\n",
              "      <td>0</td>\n",
              "      <td>0</td>\n",
              "      <td>0</td>\n",
              "      <td>1</td>\n",
              "      <td>0</td>\n",
              "      <td>0</td>\n",
              "      <td>0</td>\n",
              "      <td>0</td>\n",
              "      <td>0</td>\n",
              "      <td>0</td>\n",
              "      <td>0</td>\n",
              "      <td>0</td>\n",
              "      <td>0</td>\n",
              "      <td>0</td>\n",
              "      <td>0</td>\n",
              "      <td>1</td>\n",
              "      <td>0</td>\n",
              "      <td>0</td>\n",
              "      <td>0</td>\n",
              "      <td>0</td>\n",
              "      <td>0</td>\n",
              "      <td>0</td>\n",
              "      <td>0</td>\n",
              "      <td>0</td>\n",
              "      <td>0</td>\n",
              "      <td>0</td>\n",
              "      <td>0</td>\n",
              "      <td>0</td>\n",
              "      <td>0</td>\n",
              "      <td>0</td>\n",
              "      <td>0</td>\n",
              "      <td>1</td>\n",
              "      <td>0</td>\n",
              "      <td>0</td>\n",
              "      <td>0</td>\n",
              "      <td>0</td>\n",
              "      <td>0</td>\n",
              "      <td>0</td>\n",
              "      <td>0</td>\n",
              "      <td>0</td>\n",
              "      <td>0</td>\n",
              "      <td>0</td>\n",
              "      <td>0</td>\n",
              "      <td>0</td>\n",
              "      <td>0</td>\n",
              "      <td>0</td>\n",
              "      <td>1</td>\n",
              "      <td>0</td>\n",
              "    </tr>\n",
              "    <tr>\n",
              "      <th>1</th>\n",
              "      <td>0</td>\n",
              "      <td>0</td>\n",
              "      <td>0</td>\n",
              "      <td>1</td>\n",
              "      <td>0</td>\n",
              "      <td>0</td>\n",
              "      <td>0</td>\n",
              "      <td>0</td>\n",
              "      <td>0</td>\n",
              "      <td>0</td>\n",
              "      <td>0</td>\n",
              "      <td>0</td>\n",
              "      <td>0</td>\n",
              "      <td>0</td>\n",
              "      <td>0</td>\n",
              "      <td>1</td>\n",
              "      <td>0</td>\n",
              "      <td>0</td>\n",
              "      <td>0</td>\n",
              "      <td>0</td>\n",
              "      <td>0</td>\n",
              "      <td>0</td>\n",
              "      <td>0</td>\n",
              "      <td>0</td>\n",
              "      <td>0</td>\n",
              "      <td>0</td>\n",
              "      <td>0</td>\n",
              "      <td>0</td>\n",
              "      <td>0</td>\n",
              "      <td>0</td>\n",
              "      <td>0</td>\n",
              "      <td>0</td>\n",
              "      <td>0</td>\n",
              "      <td>0</td>\n",
              "      <td>1</td>\n",
              "      <td>0</td>\n",
              "      <td>0</td>\n",
              "      <td>0</td>\n",
              "      <td>0</td>\n",
              "      <td>0</td>\n",
              "      <td>1</td>\n",
              "      <td>0</td>\n",
              "      <td>0</td>\n",
              "      <td>0</td>\n",
              "      <td>0</td>\n",
              "      <td>0</td>\n",
              "      <td>0</td>\n",
              "      <td>0</td>\n",
              "    </tr>\n",
              "    <tr>\n",
              "      <th>2</th>\n",
              "      <td>0</td>\n",
              "      <td>0</td>\n",
              "      <td>0</td>\n",
              "      <td>1</td>\n",
              "      <td>0</td>\n",
              "      <td>0</td>\n",
              "      <td>0</td>\n",
              "      <td>0</td>\n",
              "      <td>0</td>\n",
              "      <td>0</td>\n",
              "      <td>0</td>\n",
              "      <td>0</td>\n",
              "      <td>0</td>\n",
              "      <td>0</td>\n",
              "      <td>0</td>\n",
              "      <td>1</td>\n",
              "      <td>0</td>\n",
              "      <td>0</td>\n",
              "      <td>0</td>\n",
              "      <td>0</td>\n",
              "      <td>0</td>\n",
              "      <td>0</td>\n",
              "      <td>0</td>\n",
              "      <td>0</td>\n",
              "      <td>0</td>\n",
              "      <td>0</td>\n",
              "      <td>0</td>\n",
              "      <td>0</td>\n",
              "      <td>0</td>\n",
              "      <td>0</td>\n",
              "      <td>0</td>\n",
              "      <td>0</td>\n",
              "      <td>0</td>\n",
              "      <td>0</td>\n",
              "      <td>0</td>\n",
              "      <td>0</td>\n",
              "      <td>1</td>\n",
              "      <td>0</td>\n",
              "      <td>0</td>\n",
              "      <td>1</td>\n",
              "      <td>0</td>\n",
              "      <td>0</td>\n",
              "      <td>0</td>\n",
              "      <td>0</td>\n",
              "      <td>0</td>\n",
              "      <td>0</td>\n",
              "      <td>0</td>\n",
              "      <td>0</td>\n",
              "    </tr>\n",
              "    <tr>\n",
              "      <th>3</th>\n",
              "      <td>0</td>\n",
              "      <td>0</td>\n",
              "      <td>0</td>\n",
              "      <td>1</td>\n",
              "      <td>0</td>\n",
              "      <td>0</td>\n",
              "      <td>0</td>\n",
              "      <td>0</td>\n",
              "      <td>0</td>\n",
              "      <td>0</td>\n",
              "      <td>0</td>\n",
              "      <td>0</td>\n",
              "      <td>0</td>\n",
              "      <td>0</td>\n",
              "      <td>0</td>\n",
              "      <td>1</td>\n",
              "      <td>0</td>\n",
              "      <td>0</td>\n",
              "      <td>0</td>\n",
              "      <td>0</td>\n",
              "      <td>0</td>\n",
              "      <td>0</td>\n",
              "      <td>0</td>\n",
              "      <td>0</td>\n",
              "      <td>0</td>\n",
              "      <td>0</td>\n",
              "      <td>0</td>\n",
              "      <td>0</td>\n",
              "      <td>0</td>\n",
              "      <td>0</td>\n",
              "      <td>0</td>\n",
              "      <td>0</td>\n",
              "      <td>0</td>\n",
              "      <td>0</td>\n",
              "      <td>1</td>\n",
              "      <td>0</td>\n",
              "      <td>0</td>\n",
              "      <td>0</td>\n",
              "      <td>0</td>\n",
              "      <td>0</td>\n",
              "      <td>1</td>\n",
              "      <td>0</td>\n",
              "      <td>0</td>\n",
              "      <td>0</td>\n",
              "      <td>0</td>\n",
              "      <td>0</td>\n",
              "      <td>0</td>\n",
              "      <td>0</td>\n",
              "    </tr>\n",
              "    <tr>\n",
              "      <th>4</th>\n",
              "      <td>0</td>\n",
              "      <td>0</td>\n",
              "      <td>0</td>\n",
              "      <td>1</td>\n",
              "      <td>0</td>\n",
              "      <td>0</td>\n",
              "      <td>0</td>\n",
              "      <td>0</td>\n",
              "      <td>0</td>\n",
              "      <td>0</td>\n",
              "      <td>0</td>\n",
              "      <td>0</td>\n",
              "      <td>0</td>\n",
              "      <td>0</td>\n",
              "      <td>0</td>\n",
              "      <td>1</td>\n",
              "      <td>0</td>\n",
              "      <td>0</td>\n",
              "      <td>0</td>\n",
              "      <td>0</td>\n",
              "      <td>0</td>\n",
              "      <td>0</td>\n",
              "      <td>0</td>\n",
              "      <td>0</td>\n",
              "      <td>0</td>\n",
              "      <td>0</td>\n",
              "      <td>0</td>\n",
              "      <td>0</td>\n",
              "      <td>0</td>\n",
              "      <td>0</td>\n",
              "      <td>0</td>\n",
              "      <td>0</td>\n",
              "      <td>0</td>\n",
              "      <td>0</td>\n",
              "      <td>0</td>\n",
              "      <td>0</td>\n",
              "      <td>0</td>\n",
              "      <td>0</td>\n",
              "      <td>1</td>\n",
              "      <td>0</td>\n",
              "      <td>0</td>\n",
              "      <td>0</td>\n",
              "      <td>0</td>\n",
              "      <td>0</td>\n",
              "      <td>0</td>\n",
              "      <td>0</td>\n",
              "      <td>0</td>\n",
              "      <td>0</td>\n",
              "    </tr>\n",
              "  </tbody>\n",
              "</table>\n",
              "</div>"
            ],
            "text/plain": [
              "   Financial Year_2016/17  ...  Buyer_Sara Ferrell\n",
              "0                       0  ...                   0\n",
              "1                       0  ...                   0\n",
              "2                       0  ...                   0\n",
              "3                       0  ...                   0\n",
              "4                       0  ...                   0\n",
              "\n",
              "[5 rows x 48 columns]"
            ]
          },
          "metadata": {
            "tags": []
          },
          "execution_count": 9
        }
      ]
    },
    {
      "cell_type": "code",
      "metadata": {
        "colab": {
          "base_uri": "https://localhost:8080/"
        },
        "id": "sTZio1iC0-5L",
        "outputId": "fc14ecdd-3b68-4f70-a437-36db8bd431e3"
      },
      "source": [
        "y = data[[\"Sales\"]]\n",
        "from sklearn.model_selection import train_test_split\n",
        "x_train, x_test, y_train, y_test = train_test_split(x, y, test_size=0.25, random_state=101) #takin 60-40 spilt\n",
        "x_train.shape,x_test.shape,y_train.shape,y_test.shape"
      ],
      "execution_count": null,
      "outputs": [
        {
          "output_type": "execute_result",
          "data": {
            "text/plain": [
              "((54318, 48), (18107, 48), (54318, 1), (18107, 1))"
            ]
          },
          "metadata": {
            "tags": []
          },
          "execution_count": 10
        }
      ]
    },
    {
      "cell_type": "code",
      "metadata": {
        "colab": {
          "base_uri": "https://localhost:8080/"
        },
        "id": "6gNrq45hxYdk",
        "outputId": "700377ca-50d5-407c-eef6-f898c994ee02"
      },
      "source": [
        "from sklearn.linear_model import LinearRegression\n",
        "Regressor = LinearRegression()\n",
        "Regressor.fit(x_train,y_train)"
      ],
      "execution_count": null,
      "outputs": [
        {
          "output_type": "execute_result",
          "data": {
            "text/plain": [
              "LinearRegression(copy_X=True, fit_intercept=True, n_jobs=None, normalize=False)"
            ]
          },
          "metadata": {
            "tags": []
          },
          "execution_count": 11
        }
      ]
    },
    {
      "cell_type": "code",
      "metadata": {
        "colab": {
          "base_uri": "https://localhost:8080/"
        },
        "id": "CMfyiXLH1fGR",
        "outputId": "44427a10-2f08-4bba-cf5a-aaade08ebbc7"
      },
      "source": [
        "print(Regressor.intercept_)"
      ],
      "execution_count": null,
      "outputs": [
        {
          "output_type": "stream",
          "text": [
            "[-6.64311813e+15]\n"
          ],
          "name": "stdout"
        }
      ]
    },
    {
      "cell_type": "code",
      "metadata": {
        "colab": {
          "base_uri": "https://localhost:8080/"
        },
        "id": "RbtXDn9f1hvc",
        "outputId": "c4bd312a-efe5-4944-cf43-8fbdee1caa71"
      },
      "source": [
        "print(Regressor.coef_)\n"
      ],
      "execution_count": 38,
      "outputs": [
        {
          "output_type": "stream",
          "text": [
            "[[ 9.09718323e+01 -1.44818755e+02 -6.11771791e+02  5.11793719e+02\n",
            "   9.72381305e+15  7.07579539e+15  4.79075617e+15 -3.42137342e+15\n",
            "   2.44227517e+15 -5.23943361e+15 -2.28503922e+15  2.34848100e+15\n",
            "  -2.28503922e+15  4.79075617e+15  4.79075617e+15  4.79075617e+15\n",
            "   2.34848100e+15  4.79075617e+15  1.00301898e+16  4.79075617e+15\n",
            "  -4.93305688e+15  1.00301898e+16  2.34848100e+15  2.34848100e+15\n",
            "   3.89772050e+01 -2.28503922e+15 -2.28503922e+15  8.21212959e+15\n",
            "  -2.28503922e+15  1.00301898e+16  7.46994971e+15  8.82929697e+15\n",
            "   7.59687101e+14 -1.37717850e+14  1.88481554e+14  2.14345104e+15\n",
            "   3.09641658e+15 -3.08809261e+15  1.85236196e+15 -1.24405462e+15\n",
            "   1.66388040e+15 -5.61758775e+15 -2.91089078e+14  1.09267486e+15\n",
            "   4.94045457e+15  1.85236196e+15 -6.97693501e+15  1.99007981e+15]]\n"
          ],
          "name": "stdout"
        }
      ]
    },
    {
      "cell_type": "code",
      "metadata": {
        "id": "1X8IR42owWX9",
        "colab": {
          "base_uri": "https://localhost:8080/"
        },
        "outputId": "e3cbc9f2-480d-4976-8732-c9bbf57ce5bc"
      },
      "source": [
        "prediction = Regressor.predict(x_test)\n",
        "prediction"
      ],
      "execution_count": 18,
      "outputs": [
        {
          "output_type": "execute_result",
          "data": {
            "text/plain": [
              "array([[ 916.],\n",
              "       [ 240.],\n",
              "       [1511.],\n",
              "       ...,\n",
              "       [ 889.],\n",
              "       [1489.],\n",
              "       [ 732.]])"
            ]
          },
          "metadata": {
            "tags": []
          },
          "execution_count": 18
        }
      ]
    },
    {
      "cell_type": "code",
      "metadata": {
        "id": "boYfsE7p4VgZ",
        "colab": {
          "base_uri": "https://localhost:8080/",
          "height": 350
        },
        "outputId": "d309d357-59b4-4108-e495-9202041895a6"
      },
      "source": [
        "sns.regplot(y_test,prediction,x_bins=250)"
      ],
      "execution_count": 28,
      "outputs": [
        {
          "output_type": "stream",
          "text": [
            "/usr/local/lib/python3.7/dist-packages/seaborn/_decorators.py:43: FutureWarning: Pass the following variables as keyword args: x, y. From version 0.12, the only valid positional argument will be `data`, and passing other arguments without an explicit keyword will result in an error or misinterpretation.\n",
            "  FutureWarning\n"
          ],
          "name": "stderr"
        },
        {
          "output_type": "execute_result",
          "data": {
            "text/plain": [
              "<matplotlib.axes._subplots.AxesSubplot at 0x7f205f81e2d0>"
            ]
          },
          "metadata": {
            "tags": []
          },
          "execution_count": 28
        },
        {
          "output_type": "display_data",
          "data": {
            "image/png": "[encoded data removed]",
            "text/plain": [
              "<Figure size 432x288 with 1 Axes>"
            ]
          },
          "metadata": {
            "tags": [],
            "needs_background": "light"
          }
        }
      ]
    },
    {
      "cell_type": "code",
      "metadata": {
        "id": "FTl-MgRY4pqa",
        "colab": {
          "base_uri": "https://localhost:8080/"
        },
        "outputId": "0a7b9ec5-78eb-4df4-aff3-83a7edb3cf5f"
      },
      "source": [
        "print('Mean Absolute Error:', metrics.mean_absolute_error(y_test, prediction))\n",
        "print('Mean Squared Error:', metrics.mean_squared_error(y_test, prediction))\n",
        "print('RSquared value:', Regressor.score(x_test, prediction))"
      ],
      "execution_count": 31,
      "outputs": [
        {
          "output_type": "stream",
          "text": [
            "Mean Absolute Error: 761.8398122273154\n",
            "Mean Squared Error: 1289795.2748105708\n",
            "RSquared value: 1.0\n"
          ],
          "name": "stdout"
        }
      ]
    }
  ]
}